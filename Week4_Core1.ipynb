{
  "nbformat": 4,
  "nbformat_minor": 0,
  "metadata": {
    "colab": {
      "name": "Week4_Core1.ipynb",
      "provenance": [],
      "collapsed_sections": [],
      "authorship_tag": "ABX9TyP2fg+qGggp7e6yDPSp9ijL",
      "include_colab_link": true
    },
    "kernelspec": {
      "name": "python3",
      "display_name": "Python 3"
    },
    "language_info": {
      "name": "python"
    }
  },
  "cells": [
    {
      "cell_type": "markdown",
      "metadata": {
        "id": "view-in-github",
        "colab_type": "text"
      },
      "source": [
        "<a href=\"https://colab.research.google.com/github/Manel-MH/Monday-Makeover/blob/main/Week4_Core1.ipynb\" target=\"_parent\"><img src=\"https://colab.research.google.com/assets/colab-badge.svg\" alt=\"Open In Colab\"/></a>"
      ]
    },
    {
      "cell_type": "markdown",
      "metadata": {
        "id": "JdlF438RdvPS"
      },
      "source": [
        "Mount Drvive"
      ]
    },
    {
      "cell_type": "code",
      "metadata": {
        "colab": {
          "base_uri": "https://localhost:8080/"
        },
        "id": "cos3_8a5cKJ3",
        "outputId": "8e99d708-5f6f-4423-f9d7-a049a162ada3"
      },
      "source": [
        "from google.colab import drive\n",
        "drive.mount('/content/drive')"
      ],
      "execution_count": 1,
      "outputs": [
        {
          "output_type": "stream",
          "text": [
            "Drive already mounted at /content/drive; to attempt to forcibly remount, call drive.mount(\"/content/drive\", force_remount=True).\n"
          ],
          "name": "stdout"
        }
      ]
    },
    {
      "cell_type": "markdown",
      "metadata": {
        "id": "TZecZZlocW5_"
      },
      "source": [
        "Import Libraries"
      ]
    },
    {
      "cell_type": "code",
      "metadata": {
        "id": "cu_y0gMscY7i"
      },
      "source": [
        "#import libraries\n",
        "import matplotlib.pyplot as plt\n",
        "import seaborn as sns\n",
        "import pandas as pd\n",
        "import numpy as np"
      ],
      "execution_count": 2,
      "outputs": []
    },
    {
      "cell_type": "markdown",
      "metadata": {
        "id": "O5MgfQsycg1x"
      },
      "source": [
        "Load Data"
      ]
    },
    {
      "cell_type": "code",
      "metadata": {
        "colab": {
          "base_uri": "https://localhost:8080/",
          "height": 204
        },
        "id": "_SebcWeDciFB",
        "outputId": "0c1b069e-1c36-4043-c0d7-16594f21cba6"
      },
      "source": [
        "#load dataset\n",
        "MakeoverMonday = ('/content/drive/MyDrive/Colab Notebooks/datasets/Global import of cocoa beans (1).xlsx')\n",
        "df_CocoaBeans = pd.read_excel(MakeoverMonday)\n",
        "df_CocoaBeans.head()"
      ],
      "execution_count": 3,
      "outputs": [
        {
          "output_type": "execute_result",
          "data": {
            "text/html": [
              "<div>\n",
              "<style scoped>\n",
              "    .dataframe tbody tr th:only-of-type {\n",
              "        vertical-align: middle;\n",
              "    }\n",
              "\n",
              "    .dataframe tbody tr th {\n",
              "        vertical-align: top;\n",
              "    }\n",
              "\n",
              "    .dataframe thead th {\n",
              "        text-align: right;\n",
              "    }\n",
              "</style>\n",
              "<table border=\"1\" class=\"dataframe\">\n",
              "  <thead>\n",
              "    <tr style=\"text-align: right;\">\n",
              "      <th></th>\n",
              "      <th>Region</th>\n",
              "      <th>Year</th>\n",
              "      <th>Import in tonnes</th>\n",
              "    </tr>\n",
              "  </thead>\n",
              "  <tbody>\n",
              "    <tr>\n",
              "      <th>0</th>\n",
              "      <td>Asia &amp; Oceania</td>\n",
              "      <td>2015</td>\n",
              "      <td>565000</td>\n",
              "    </tr>\n",
              "    <tr>\n",
              "      <th>1</th>\n",
              "      <td>Asia &amp; Oceania</td>\n",
              "      <td>2016</td>\n",
              "      <td>592000</td>\n",
              "    </tr>\n",
              "    <tr>\n",
              "      <th>2</th>\n",
              "      <td>Asia &amp; Oceania</td>\n",
              "      <td>2017</td>\n",
              "      <td>866000</td>\n",
              "    </tr>\n",
              "    <tr>\n",
              "      <th>3</th>\n",
              "      <td>Asia &amp; Oceania</td>\n",
              "      <td>2018</td>\n",
              "      <td>927000</td>\n",
              "    </tr>\n",
              "    <tr>\n",
              "      <th>4</th>\n",
              "      <td>Asia &amp; Oceania</td>\n",
              "      <td>2019</td>\n",
              "      <td>924000</td>\n",
              "    </tr>\n",
              "  </tbody>\n",
              "</table>\n",
              "</div>"
            ],
            "text/plain": [
              "           Region  Year  Import in tonnes\n",
              "0  Asia & Oceania  2015            565000\n",
              "1  Asia & Oceania  2016            592000\n",
              "2  Asia & Oceania  2017            866000\n",
              "3  Asia & Oceania  2018            927000\n",
              "4  Asia & Oceania  2019            924000"
            ]
          },
          "metadata": {
            "tags": []
          },
          "execution_count": 3
        }
      ]
    },
    {
      "cell_type": "markdown",
      "metadata": {
        "id": "3u0g1BLMgX8Y"
      },
      "source": [
        "1) Initial Exploration: Get a feel for your data set\n",
        "\n",
        "● What are the columns?\n",
        "\n",
        "● What is the type of data for each column\n",
        "\n",
        "● How much data do you have?\n",
        "\n",
        "● Are you missing data points?\n",
        "\n",
        "2) Clean: Prepare the data for analysis\n",
        "\n",
        "● Make sure you have the appropriate datatype (are numerical values actually numerical\n",
        "data types?)\n",
        "\n",
        "● Make sure your categorical data is consistant\n",
        "\n",
        "● Address missing values\n",
        "\n",
        "● Address any other obvious errors in your data (Example: Age can’t be 230!)\n",
        "\n",
        "3) Univariate Visuals: Explore the distribution of each column of data\n",
        "\n",
        "● Histograms and boxplots\n",
        "\n",
        "● Bar charts\n",
        "\n",
        "4) Multivariate Visuals: Explore relationships between variables and differences in groups\n",
        "\n",
        "● Scatterplots\n",
        "\n",
        "● Correlation Heatmaps\n",
        "\n",
        "● Multivariable bar charts or boxbplots\n",
        "\n",
        "5) Report: Share your findings\n",
        "\n",
        "● What are the most important findings? (Support each finding with a visual)\n",
        "\n",
        "● What recommendations would you make to stakeholders based on your findings\n"
      ]
    },
    {
      "cell_type": "code",
      "metadata": {
        "colab": {
          "base_uri": "https://localhost:8080/"
        },
        "id": "fatOwS_5gaFm",
        "outputId": "4cff9f31-92f1-49c3-e1c6-ee50f102a4a9"
      },
      "source": [
        "#data shape\n",
        "print(df_CocoaBeans.shape)\n",
        "print('We have a dataset with 3 columns and 15 rows.')"
      ],
      "execution_count": 4,
      "outputs": [
        {
          "output_type": "stream",
          "text": [
            "(15, 3)\n",
            "We have a dataset with 3 columns and 15 rows.\n"
          ],
          "name": "stdout"
        }
      ]
    },
    {
      "cell_type": "code",
      "metadata": {
        "colab": {
          "base_uri": "https://localhost:8080/"
        },
        "id": "7G3P5BkkhUYd",
        "outputId": "5d564d51-006e-4e72-a0f6-9ae9579fdcaf"
      },
      "source": [
        "#data type\n",
        "df_CocoaBeans.info()"
      ],
      "execution_count": 5,
      "outputs": [
        {
          "output_type": "stream",
          "text": [
            "<class 'pandas.core.frame.DataFrame'>\n",
            "RangeIndex: 15 entries, 0 to 14\n",
            "Data columns (total 3 columns):\n",
            " #   Column            Non-Null Count  Dtype \n",
            "---  ------            --------------  ----- \n",
            " 0   Region            15 non-null     object\n",
            " 1   Year              15 non-null     int64 \n",
            " 2   Import in tonnes  15 non-null     int64 \n",
            "dtypes: int64(2), object(1)\n",
            "memory usage: 488.0+ bytes\n"
          ],
          "name": "stdout"
        }
      ]
    },
    {
      "cell_type": "code",
      "metadata": {
        "colab": {
          "base_uri": "https://localhost:8080/"
        },
        "id": "DxhhwzG7hkD0",
        "outputId": "1fa06e2b-6eb6-47f5-d13d-c0d5f12a8a75"
      },
      "source": [
        "#missing values\n",
        "#is there missing values ?\n",
        "#we always want .isnull().sum() to return zero\n",
        "#.isnull().sum() != 0, we have missing values\n",
        "df_CocoaBeans.isnull().sum()"
      ],
      "execution_count": 6,
      "outputs": [
        {
          "output_type": "execute_result",
          "data": {
            "text/plain": [
              "Region              0\n",
              "Year                0\n",
              "Import in tonnes    0\n",
              "dtype: int64"
            ]
          },
          "metadata": {
            "tags": []
          },
          "execution_count": 6
        }
      ]
    },
    {
      "cell_type": "code",
      "metadata": {
        "colab": {
          "base_uri": "https://localhost:8080/"
        },
        "id": "uEMcTggojxNC",
        "outputId": "ad55ff72-4783-4371-9df3-3b00bc5cc91d"
      },
      "source": [
        "#run .value_counts() on each dtype\n",
        "print(df_CocoaBeans['Region'].value_counts())\n",
        "print(df_CocoaBeans['Year'].value_counts())\n",
        "print(df_CocoaBeans['Import in tonnes'].value_counts())"
      ],
      "execution_count": 7,
      "outputs": [
        {
          "output_type": "stream",
          "text": [
            "Asia & Oceania    5\n",
            "Americas          5\n",
            "Europe            5\n",
            "Name: Region, dtype: int64\n",
            "2015    3\n",
            "2019    3\n",
            "2018    3\n",
            "2017    3\n",
            "2016    3\n",
            "Name: Year, dtype: int64\n",
            "592000     2\n",
            "2444000    1\n",
            "927000     1\n",
            "549000     1\n",
            "651000     1\n",
            "2219000    1\n",
            "2500000    1\n",
            "586000     1\n",
            "2554000    1\n",
            "924000     1\n",
            "866000     1\n",
            "565000     1\n",
            "1997000    1\n",
            "621000     1\n",
            "Name: Import in tonnes, dtype: int64\n"
          ],
          "name": "stdout"
        }
      ]
    },
    {
      "cell_type": "code",
      "metadata": {
        "colab": {
          "base_uri": "https://localhost:8080/"
        },
        "id": "kMXWJDfRkm48",
        "outputId": "bd5efb1b-7e3a-4243-f4b8-b746914d7e72"
      },
      "source": [
        "#get Import in tonnes per year\n",
        "ImportYear = df_CocoaBeans.groupby(['Year'])['Import in tonnes'].nunique()\n",
        "#this is a panda series\n",
        "ImportYear"
      ],
      "execution_count": 8,
      "outputs": [
        {
          "output_type": "execute_result",
          "data": {
            "text/plain": [
              "Year\n",
              "2015    3\n",
              "2016    3\n",
              "2017    3\n",
              "2018    3\n",
              "2019    3\n",
              "Name: Import in tonnes, dtype: int64"
            ]
          },
          "metadata": {
            "tags": []
          },
          "execution_count": 8
        }
      ]
    },
    {
      "cell_type": "code",
      "metadata": {
        "colab": {
          "base_uri": "https://localhost:8080/"
        },
        "id": "fy9B-jpHlDRR",
        "outputId": "cfe3e094-faa4-4ed0-e800-5f79d625efe2"
      },
      "source": [
        "# Region list\n",
        "Region = list(ImportYear.values)\n",
        "Region"
      ],
      "execution_count": 9,
      "outputs": [
        {
          "output_type": "execute_result",
          "data": {
            "text/plain": [
              "[3, 3, 3, 3, 3]"
            ]
          },
          "metadata": {
            "tags": []
          },
          "execution_count": 9
        }
      ]
    },
    {
      "cell_type": "code",
      "metadata": {
        "id": "2VZxzGLvuVqb"
      },
      "source": [
        "#create a df for each year\n",
        "filter_2015 = df_CocoaBeans['Year'] == 2015\n",
        "filter_2016 = df_CocoaBeans['Year'] == 2016\n",
        "filter_2016 = df_CocoaBeans['Year'] == 2017\n",
        "filter_2016 = df_CocoaBeans['Year'] == 2018\n",
        "filter_2016 = df_CocoaBeans['Year'] == 2019"
      ],
      "execution_count": 10,
      "outputs": []
    }
  ]
}